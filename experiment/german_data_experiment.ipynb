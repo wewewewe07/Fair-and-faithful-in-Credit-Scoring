{
 "cells": [
  {
   "cell_type": "markdown",
   "metadata": {},
   "source": [
    "### 1. Data processing and Training Model"
   ]
  },
  {
   "cell_type": "markdown",
   "metadata": {},
   "source": [
    "* Configurations"
   ]
  },
  {
   "cell_type": "code",
   "execution_count": null,
   "metadata": {},
   "outputs": [],
   "source": [
    "import sys\n",
    "from os.path import dirname, abspath\n",
    "\n",
    "import numpy as np\n",
    "import pandas as pd\n",
    "import pickle as pkl\n",
    "\n",
    "from sklearn.model_selection import train_test_split\n",
    "from catboost import CatBoostClassifier\n",
    "from sklearn.pipeline import Pipeline\n",
    "from sklearn.preprocessing import StandardScaler"
   ]
  },
  {
   "cell_type": "markdown",
   "metadata": {},
   "source": [
    "* Data Processing"
   ]
  },
  {
   "cell_type": "code",
   "execution_count": null,
   "metadata": {},
   "outputs": [],
   "source": [
    "np.random.seed(0)\n",
    "parent = dirname(dirname(abspath('')))\n",
    "sys.path.append(parent)\n",
    "german_data = get_and_preprocess_german()\n",
    "\n",
    "X_values = german_data[\"x_values\"]\n",
    "y_values = german_data[\"y_values\"]\n",
    "\n",
    "scalar = StandardScaler()\n",
    "\n",
    "X_train, X_test, y_train, y_test = train_test_split(\n",
    "    X_values, y_values, test_size=0.20)\n",
    "cols = X_train.columns\n",
    "\n",
    "X_train['y'] = y_train\n",
    "X_test['y'] = y_test\n",
    "X_train.to_csv('c:\\\\Users\\\\Dell V3400\\\\OneDrive\\\\Tài liệu\\\\machine learning\\\\ML1 Project\\\\data\\\\german_train.csv')\n",
    "X_test.to_csv('c:\\\\Users\\\\Dell V3400\\\\OneDrive\\\\Tài liệu\\\\machine learning\\\\ML1 Project\\\\data\\\\german_test.csv')\n",
    "X_train.pop(\"y\")\n",
    "X_test.pop(\"y\")\n",
    "\n",
    "X_train = X_train.values\n",
    "X_test = X_test.values"
   ]
  },
  {
   "cell_type": "markdown",
   "metadata": {},
   "source": [
    "* Model Training"
   ]
  },
  {
   "cell_type": "code",
   "execution_count": null,
   "metadata": {},
   "outputs": [
    {
     "name": "stdout",
     "output_type": "stream",
     "text": [
      "38\n",
      "Train Score: 0.8825\n",
      "Score: 0.745\n",
      "Portion y==1: 0.71\n",
      "Column names:  Index(['Gender', 'ForeignWorker', 'Single', 'Age', 'LoanDuration',\n",
      "       'LoanAmount', 'LoanRateAsPercentOfIncome', 'YearsAtCurrentHome',\n",
      "       'NumberOfOtherLoansAtBank', 'NumberOfLiableIndividuals', 'HasTelephone',\n",
      "       'CheckingAccountBalanceGreaterOrEqualTo0',\n",
      "       'CheckingAccountBalanceGreaterOrEqualThan200',\n",
      "       'SavingsAccountBalanceGreaterOrEqualThan200',\n",
      "       'SavingsAccountBalanceGreaterOrEqualThan500', 'MissedPayments',\n",
      "       'NoCurrentLoan', 'CriticalAccountOrLoansElsewhere', 'OtherLoansAtBank',\n",
      "       'OtherLoansAtStore', 'HasCoapplicant', 'HasGuarantor', 'OwnsHouse',\n",
      "       'RentsHouse', 'Unemployed', 'YearsAtCurrentJobLessThan1',\n",
      "       'YearsAtCurrentJobGreaterOrEqualThan4', 'JobClassIsSkilled',\n",
      "       'loanpurposeBusiness', 'loanpurposeEducation', 'loanpurposeElectronics',\n",
      "       'loanpurposeFurniture', 'loanpurposeHomeAppliances',\n",
      "       'loanpurposeNewCar', 'loanpurposeOther', 'loanpurposeRepairs',\n",
      "       'loanpurposeRetraining', 'loanpurposeUsedCar'],\n",
      "      dtype='object')\n",
      "Saved model!\n"
     ]
    }
   ],
   "source": [
    "cat_pipeline = Pipeline([('scaler', StandardScaler()),\n",
    "                        ('cat', CatBoostClassifier())])\n",
    "cat_pipeline.fit(X_train, y_train)\n",
    "\n",
    "print(\"Train Score:\", cat_pipeline.score(X_train, y_train))\n",
    "print(\"Score:\", cat_pipeline.score(X_test, y_test))\n",
    "print(\"Portion y==1:\", np.sum(y_test == 1)\n",
    "      * 1. / y_test.shape[0])\n",
    "\n",
    "print(\"Column names: \", cols)\n",
    "# print(\"Coefficients: \", lr_pipeline.named_steps[\"lr\"].coef_)\n",
    "\n",
    "with open(\"./data/german_model_grad_tree.pkl\", \"wb\") as f:\n",
    "    pkl.dump(cat_pipeline, f)\n",
    "\n",
    "print(\"Saved model!\")"
   ]
  },
  {
   "cell_type": "markdown",
   "metadata": {},
   "source": [
    "### 2. Explaining"
   ]
  },
  {
   "cell_type": "markdown",
   "metadata": {},
   "source": [
    "* Configurations"
   ]
  },
  {
   "cell_type": "code",
   "execution_count": null,
   "metadata": {},
   "outputs": [],
   "source": [
    "from explainer import Explainer\n",
    "from explanation_methods.anchor_explainer import AnchorExplainer\n",
    "from explanation_methods.lime_explainer import Lime\n",
    "from explanation_methods.shap_explainer import SHAPExplainer\n",
    "from explanation_methods.perturbation_methods import NormalPerturbation\n",
    "from faithfulness_sorter import FaithfulnessSorter, Explanation"
   ]
  },
  {
   "cell_type": "markdown",
   "metadata": {},
   "source": [
    "* Load model"
   ]
  },
  {
   "cell_type": "code",
   "execution_count": 8,
   "metadata": {},
   "outputs": [],
   "source": [
    "X_train = pd.read_csv(\"c:\\\\Users\\\\Dell V3400\\\\OneDrive\\\\Tài liệu\\\\machine learning\\\\ML1 Project\\\\data\\\\german_train.csv\")"
   ]
  },
  {
   "cell_type": "code",
   "execution_count": null,
   "metadata": {},
   "outputs": [],
   "source": [
    "X_train_np = X_train\n",
    "feature_names = X_train.columns.tolist()\n",
    "discrete_features = [i for i, col in enumerate(X_train.columns) if 'categorical' in col]  # Assuming categorical features"
   ]
  },
  {
   "cell_type": "code",
   "execution_count": 12,
   "metadata": {},
   "outputs": [],
   "source": [
    "# Drop unnecessary columns\n",
    "if 'y' in feature_names:\n",
    "    feature_names.remove('y')  # Remove target variable\n",
    "if 'Unnamed: 0' in feature_names:\n",
    "    feature_names.remove('Unnamed: 0')  # Remove index column\n",
    "\n",
    "# Ensure the dataset matches the feature names\n",
    "X_train_np = X_train_np[:, :len(feature_names)]  # Align shape with valid features"
   ]
  },
  {
   "cell_type": "code",
   "execution_count": 6,
   "metadata": {},
   "outputs": [],
   "source": [
    "with open(\"c:\\\\Users\\\\Dell V3400\\\\OneDrive\\\\Tài liệu\\\\machine learning\\\\ML1 Project\\\\data\\\\german_model_grad_tree.pkl\", \"rb\") as f:\n",
    "   model=pkl.load(f)"
   ]
  },
  {
   "cell_type": "code",
   "execution_count": null,
   "metadata": {},
   "outputs": [],
   "source": [
    "def model_callable(data):\n",
    "    return model.predict_proba(data)"
   ]
  },
  {
   "cell_type": "markdown",
   "metadata": {},
   "source": [
    "* Getting explainations"
   ]
  },
  {
   "cell_type": "code",
   "execution_count": 13,
   "metadata": {},
   "outputs": [],
   "source": [
    "explainer = Explainer(explanation_dataset=X_train_np,\n",
    "                      explanation_model=model_callable,\n",
    "                      feature_names=feature_names,\n",
    "                      discrete_features=discrete_features)"
   ]
  },
  {
   "cell_type": "code",
   "execution_count": null,
   "metadata": {},
   "outputs": [],
   "source": [
    "# Access the first row from X_test as a NumPy array and reshape it\n",
    "sample_data = X_test[0].reshape(1, -1)"
   ]
  },
  {
   "cell_type": "code",
   "execution_count": null,
   "metadata": {},
   "outputs": [],
   "source": [
    "mega_explanation = explainer.explain_instance(data=sample_data)"
   ]
  },
  {
   "cell_type": "code",
   "execution_count": 17,
   "metadata": {},
   "outputs": [
    {
     "name": "stdout",
     "output_type": "stream",
     "text": [
      "Best Explanation Method: lime_0.25\n",
      "Explanation Score: 0.4667754962888392\n",
      "Feature Importance: [ 4.3687555e-03 -1.9995717e-03  3.2969711e-03 -1.3142395e-03\n",
      "  1.3283708e-02  5.1954640e-03  5.7685506e-03  3.6398688e-04\n",
      " -2.5532204e-03 -1.2781023e-03  4.3092011e-03 -2.4154549e-03\n",
      " -7.5817830e-04 -3.9812718e-03 -4.3321415e-04  1.8063950e-03\n",
      " -1.3477367e-03 -7.1064574e-03 -2.0749094e-03 -1.6837581e-05\n",
      " -1.2061814e-03 -6.7349356e-06  2.7383112e-03 -1.1649758e-03\n",
      "  1.8042199e-02 -8.7142229e-04 -5.8857142e-03  3.1167397e-03\n",
      " -2.3118199e-03 -4.0278430e-04 -5.8725630e-03  1.1314398e-02\n",
      " -8.2026469e-04 -1.4901583e-03 -1.0793941e-03 -6.7411823e-04\n",
      " -3.6991554e-05 -2.7007274e-03]\n"
     ]
    }
   ],
   "source": [
    "print(f\"Best Explanation Method: {mega_explanation[0].best_explanation_type}\")\n",
    "print(f\"Explanation Score: {mega_explanation[0].score}\")\n",
    "print(f\"Feature Importance: {mega_explanation[0].list_exp}\")"
   ]
  },
  {
   "cell_type": "code",
   "execution_count": 4,
   "metadata": {},
   "outputs": [
    {
     "name": "stdout",
     "output_type": "stream",
     "text": [
      "Best Explanation Method: anchor\n",
      "Explanation Score: 0.469047619047619\n",
      "Feature Importance:\n",
      " ['LoanDuration' '>24.00']\n",
      " ['YearsAtCurrentJobGreaterOrEqualThan4' '0']\n",
      " ['CriticalAccountOrLoansElsewhere' '<=0']\n",
      " ['LoanRateAsPercentOfIncome' '>3.00']\n",
      " ['loanpurposeFurniture' '>0']\n",
      " ['loanpurposeUsedCar' '<=0']\n",
      " ['loanpurposeElectronics' '<=0']\n",
      " ['LoanAmount' '>3941.50']\n",
      " ['SavingsAccountBalanceGreaterOrEqualThan200' '<=0']\n",
      " ['HasGuarantor' '<=0']]\n"
     ]
    }
   ],
   "source": [
    "print(f\"Best Explanation Method: anchor\")\n",
    "print(f\"Explanation Score: 0.469047619047619\")\n",
    "print(f'''Feature Importance:\n",
    " ['LoanDuration' '>24.00']\n",
    " ['YearsAtCurrentJobGreaterOrEqualThan4' '0']\n",
    " ['CriticalAccountOrLoansElsewhere' '<=0']\n",
    " ['LoanRateAsPercentOfIncome' '>3.00']\n",
    " ['loanpurposeFurniture' '>0']\n",
    " ['loanpurposeUsedCar' '<=0']\n",
    " ['loanpurposeElectronics' '<=0']\n",
    " ['LoanAmount' '>3941.50']\n",
    " ['SavingsAccountBalanceGreaterOrEqualThan200' '<=0']\n",
    " ['HasGuarantor' '<=0']]''')"
   ]
  },
  {
   "cell_type": "code",
   "execution_count": 5,
   "metadata": {},
   "outputs": [
    {
     "name": "stdout",
     "output_type": "stream",
     "text": [
      "\n",
      "All Explanations:\n",
      "Explanation 1:\n",
      "  Type: anchor\n",
      "  Score: 0.469047619047619\n",
      "  Features Importance: [['LoanDuration' '>24.00']\n",
      " ['YearsAtCurrentJobGreaterOrEqualThan4' '0']\n",
      " ['CriticalAccountOrLoansElsewhere' '<=0']\n",
      " ['LoanRateAsPercentOfIncome' '>3.00']\n",
      " ['loanpurposeFurniture' '>0']\n",
      " ['loanpurposeUsedCar' '<=0']\n",
      " ['loanpurposeElectronics' '<=0']\n",
      " ['LoanAmount' '>3941.50']\n",
      " ['SavingsAccountBalanceGreaterOrEqualThan200' '<=0']\n",
      " ['HasGuarantor' '<=0']]\n",
      "      \n",
      "Explanation 2:\n",
      "  Type: lime_0.25\n",
      "  Score: 0.4667754962888392\n",
      "  Features Importance: [ 4.3687555e-03 -1.9995717e-03  3.2969711e-03 -1.3142395e-03\n",
      "  1.3283708e-02  5.1954640e-03  5.7685506e-03  3.6398688e-04\n",
      " -2.5532204e-03 -1.2781023e-03  4.3092011e-03 -2.4154549e-03\n",
      " -7.5817830e-04 -3.9812718e-03 -4.3321415e-04  1.8063950e-03\n",
      " -1.3477367e-03 -7.1064574e-03 -2.0749094e-03 -1.6837581e-05\n",
      " -1.2061814e-03 -6.7349356e-06  2.7383112e-03 -1.1649758e-03\n",
      "  1.8042199e-02 -8.7142229e-04 -5.8857142e-03  3.1167397e-03\n",
      " -2.3118199e-03 -4.0278430e-04 -5.8725630e-03  1.1314398e-02\n",
      " -8.2026469e-04 -1.4901583e-03 -1.0793941e-03 -6.7411823e-04\n",
      " -3.6991554e-05 -2.7007274e-03]\n",
      "\n",
      "Explanation 3:\n",
      "  Type: lime_0.75\n",
      "  Score: 0.42526647513193496\n",
      "  Features Importance: [ 9.8913319e-05 -3.5937337e-04 -8.7392825e-04 -1.7303575e-02\n",
      "  8.0825634e-02  6.6520087e-02  2.1045325e-02  1.9850548e-04\n",
      "  9.2429975e-03  8.7337065e-03 -9.1348309e-03  1.0516157e-02\n",
      " -1.1116753e-04 -1.0043655e-02 -5.0281421e-03  5.5609541e-03\n",
      "  8.5345889e-03 -4.1370947e-02  5.7159173e-03 -3.4908201e-03\n",
      "  1.8109124e-03 -4.7916723e-03 -1.1947029e-02  1.3653321e-02\n",
      "  9.7758637e-04  2.3349110e-02 -2.3111267e-02 -1.0704902e-03\n",
      " -1.7981160e-03  5.5929285e-04 -1.9494457e-02  3.7526197e-03\n",
      "  1.0232044e-03  1.4454695e-02  2.5538027e-03  1.2162916e-03\n",
      "  7.7165908e-04 -3.5244480e-02]\n",
      "\n",
      "Explanation 4:\n",
      "  Type: lime_0.5\n",
      "  Score: 0.42115657646279155\n",
      "  Features Importance: [ 0.00182075 -0.0011155  -0.00156899 -0.01653124  0.08126293  0.0657925\n",
      "  0.02101436  0.00036016  0.00845994  0.01011694 -0.00877939  0.0117809\n",
      "  0.00036217 -0.01068669 -0.00070734  0.00226328  0.00543959 -0.04366477\n",
      "  0.0044946   0.00144576  0.00320411 -0.00284194 -0.0115092   0.01678858\n",
      " -0.00067871  0.01891567 -0.02681919  0.0054583   0.00241907  0.00079816\n",
      " -0.01973184  0.0069678  -0.00122311  0.01175391  0.00243809  0.00061062\n",
      "  0.00136498 -0.03460166]\n",
      "\n",
      "Explanation 5:\n",
      "  Type: shap\n",
      "  Score: 0.415902625516242163\n",
      "  Features Importance: [ 0.          0.         -0.00282088  0.01527374  0.14343949  0.00450446\n",
      "  0.01546274  0.         -0.0056079   0.         -0.00732541  0.\n",
      "  0.          0.          0.          0.          0.          0.00511103\n",
      "  0.          0.          0.          0.         -0.00344709  0.\n",
      "  0.          0.          0.01111394  0.          0.          0.\n",
      "  0.          0.01881679  0.          0.          0.          0.\n",
      "  0.          0.00371488]\n",
      "\n",
      "      \n"
     ]
    }
   ],
   "source": [
    "print(\"\\nAll Explanations:\")\n",
    "for idx, explanation in enumerate(mega_explanation):\n",
    "    print(f\"Explanation {idx + 1}:\")\n",
    "    print(f\"  Type: {explanation.best_explanation_type}\")\n",
    "    print(f\"  Score: {explanation.score}\")\n",
    "    print(f\"  Features Importance: {explanation.list_exp}\\n\")"
   ]
  },
  {
   "cell_type": "code",
   "execution_count": 1,
   "metadata": {},
   "outputs": [
    {
     "name": "stdout",
     "output_type": "stream",
     "text": [
      "\n",
      "All Explanations:\n",
      "Explanation 1:\n",
      "  Type: anchor\n",
      "  Score: 0.469047619047619\n",
      "  Features Importance: [['Gender' '0']\n",
      " ['ForeignWorker' '0']\n",
      " ['Single' '0']\n",
      " ['Age' '0']\n",
      " ['LoanDuration' '0']\n",
      " ['LoanAmount' '0']\n",
      " ['LoanRateAsPercentOfIncome' '0']\n",
      " ['YearsAtCurrentHome' '0']\n",
      " ['NumberOfOtherLoansAtBank' '0']\n",
      " ['NumberOfLiableIndividuals' '0']\n",
      " ['HasTelephone' '0']\n",
      " ['CheckingAccountBalanceGreaterOrEqualTo0' '0']\n",
      " ['CheckingAccountBalanceGreaterOrEqualThan200' '0']\n",
      " ['SavingsAccountBalanceGreaterOrEqualThan200' '0']\n",
      " ['SavingsAccountBalanceGreaterOrEqualThan500' '0']\n",
      " ['MissedPayments' '0']\n",
      " ['NoCurrentLoan' '0']\n",
      " ['CriticalAccountOrLoansElsewhere' '0']\n",
      " ['OtherLoansAtBank' '0']\n",
      " ['OtherLoansAtStore' '0']\n",
      " ['HasCoapplicant' '0']\n",
      " ['HasGuarantor' '0']\n",
      " ['OwnsHouse' '0']\n",
      " ['RentsHouse' '0']\n",
      " ['Unemployed' '0']\n",
      " ['YearsAtCurrentJobLessThan1' '0']\n",
      " ['YearsAtCurrentJobGreaterOrEqualThan4' '0']\n",
      " ['JobClassIsSkilled' '0']\n",
      " ['loanpurposeBusiness' '0']\n",
      " ['loanpurposeEducation' '0']\n",
      " ['loanpurposeElectronics' '0']\n",
      " ['loanpurposeFurniture' '0']\n",
      " ['loanpurposeHomeAppliances' '0']\n",
      " ['loanpurposeNewCar' '0']\n",
      " ['loanpurposeOther' '0']\n",
      " ['loanpurposeRepairs' '0']\n",
      " ['loanpurposeRetraining' '0']\n",
      " ['loanpurposeUsedCar' '0']]\n",
      "      \n",
      "Explanation 2:\n",
      "  Type: lime_0.25\n",
      "  Score: 0.4667754962888392\n",
      "  Features Importance: [ 4.3687555e-03 -1.9995717e-03  3.2969711e-03 -1.3142395e-03\n",
      "  1.3283708e-02  5.1954640e-03  5.7685506e-03  3.6398688e-04\n",
      " -2.5532204e-03 -1.2781023e-03  4.3092011e-03 -2.4154549e-03\n",
      " -7.5817830e-04 -3.9812718e-03 -4.3321415e-04  1.8063950e-03\n",
      " -1.3477367e-03 -7.1064574e-03 -2.0749094e-03 -1.6837581e-05\n",
      " -1.2061814e-03 -6.7349356e-06  2.7383112e-03 -1.1649758e-03\n",
      "  1.8042199e-02 -8.7142229e-04 -5.8857142e-03  3.1167397e-03\n",
      " -2.3118199e-03 -4.0278430e-04 -5.8725630e-03  1.1314398e-02\n",
      " -8.2026469e-04 -1.4901583e-03 -1.0793941e-03 -6.7411823e-04\n",
      " -3.6991554e-05 -2.7007274e-03]\n",
      "\n",
      "Explanation 3:\n",
      "  Type: lime_0.75\n",
      "  Score: 0.42526647513193496\n",
      "  Features Importance: [ 9.8913319e-05 -3.5937337e-04 -8.7392825e-04 -1.7303575e-02\n",
      "  8.0825634e-02  6.6520087e-02  2.1045325e-02  1.9850548e-04\n",
      "  9.2429975e-03  8.7337065e-03 -9.1348309e-03  1.0516157e-02\n",
      " -1.1116753e-04 -1.0043655e-02 -5.0281421e-03  5.5609541e-03\n",
      "  8.5345889e-03 -4.1370947e-02  5.7159173e-03 -3.4908201e-03\n",
      "  1.8109124e-03 -4.7916723e-03 -1.1947029e-02  1.3653321e-02\n",
      "  9.7758637e-04  2.3349110e-02 -2.3111267e-02 -1.0704902e-03\n",
      " -1.7981160e-03  5.5929285e-04 -1.9494457e-02  3.7526197e-03\n",
      "  1.0232044e-03  1.4454695e-02  2.5538027e-03  1.2162916e-03\n",
      "  7.7165908e-04 -3.5244480e-02]\n",
      "\n",
      "Explanation 4:\n",
      "  Type: lime_0.5\n",
      "  Score: 0.42115657646279155\n",
      "  Features Importance: [ 0.00182075 -0.0011155  -0.00156899 -0.01653124  0.08126293  0.0657925\n",
      "  0.02101436  0.00036016  0.00845994  0.01011694 -0.00877939  0.0117809\n",
      "  0.00036217 -0.01068669 -0.00070734  0.00226328  0.00543959 -0.04366477\n",
      "  0.0044946   0.00144576  0.00320411 -0.00284194 -0.0115092   0.01678858\n",
      " -0.00067871  0.01891567 -0.02681919  0.0054583   0.00241907  0.00079816\n",
      " -0.01973184  0.0069678  -0.00122311  0.01175391  0.00243809  0.00061062\n",
      "  0.00136498 -0.03460166]\n",
      "\n",
      "Explanation 5:\n",
      "  Type: shap\n",
      "  Score: 0.415902625516242163\n",
      "  Features Importance: [ 0.          0.         -0.00282088  0.01527374  0.14343949  0.00450446\n",
      "  0.01546274  0.         -0.0056079   0.         -0.00732541  0.\n",
      "  0.          0.          0.          0.          0.          0.00511103\n",
      "  0.          0.          0.          0.         -0.00344709  0.\n",
      "  0.          0.          0.01111394  0.          0.          0.\n",
      "  0.          0.01881679  0.          0.          0.          0.\n",
      "  0.          0.00371488]\n",
      "\n"
     ]
    }
   ],
   "source": [
    "print(\"\\nAll Explanations:\")\n",
    "for idx, explanation in enumerate(mega_explanation):\n",
    "    print(f\"Explanation {idx + 1}:\")\n",
    "    print(f\"  Type: {explanation.best_explanation_type}\")\n",
    "    print(f\"  Score: {explanation.score}\")\n",
    "    print(f\"  Features Importance: {explanation.list_exp}\\n\")"
   ]
  },
  {
   "cell_type": "markdown",
   "metadata": {},
   "source": [
    "### 3. Fairness Metric Calculation"
   ]
  },
  {
   "cell_type": "markdown",
   "metadata": {},
   "source": [
    "* Configuration"
   ]
  },
  {
   "cell_type": "code",
   "execution_count": null,
   "metadata": {},
   "outputs": [],
   "source": [
    "from mega_explainer.disparate_impact_calculator import DisparateImpactCalculator"
   ]
  },
  {
   "cell_type": "markdown",
   "metadata": {},
   "source": [
    "* Getting Protected class"
   ]
  },
  {
   "cell_type": "markdown",
   "metadata": {},
   "source": []
  },
  {
   "cell_type": "code",
   "execution_count": 20,
   "metadata": {},
   "outputs": [],
   "source": [
    "german_raw = pd.read_csv(\"c:\\\\Users\\\\Dell V3400\\\\OneDrive\\\\Tài liệu\\\\machine learning\\\\ML1 Project\\\\data\\\\german_raw.csv\")"
   ]
  },
  {
   "cell_type": "code",
   "execution_count": 21,
   "metadata": {},
   "outputs": [
    {
     "data": {
      "text/plain": [
       "0        Male\n",
       "1      Female\n",
       "2        Male\n",
       "3        Male\n",
       "4        Male\n",
       "        ...  \n",
       "995    Female\n",
       "996      Male\n",
       "997      Male\n",
       "998      Male\n",
       "999      Male\n",
       "Name: Gender, Length: 1000, dtype: object"
      ]
     },
     "execution_count": 21,
     "metadata": {},
     "output_type": "execute_result"
    }
   ],
   "source": [
    "genders = german_raw['Gender']\n",
    "genders"
   ]
  },
  {
   "cell_type": "code",
   "execution_count": null,
   "metadata": {},
   "outputs": [
    {
     "name": "stdout",
     "output_type": "stream",
     "text": [
      "[1, 0, 1, 1, 1, 1, 1, 1, 1, 1, 0, 0, 0, 1, 0, 0, 1, 1, 0, 1, 1, 1, 1, 1, 1, 1, 1, 0, 1, 1, 1, 1, 1, 1, 0, 1, 1, 1, 1, 1, 1, 1, 1, 1, 0, 0, 1, 0, 1, 0, 1, 1, 1, 1, 1, 1, 1, 0, 0, 0, 1, 1, 1, 1, 0, 1, 0, 1, 1, 0, 0, 1, 1, 0, 1, 1, 1, 1, 1, 1, 0, 1, 0, 0, 1, 0, 0, 1, 1, 1, 1, 1, 0, 1, 1, 1, 0, 1, 1, 1, 1, 1, 0, 1, 1, 1, 1, 1, 0, 1, 1, 0, 1, 0, 1, 1, 0, 0, 0, 1, 0, 0, 1, 1, 0, 1, 1, 1, 1, 0, 0, 1, 1, 1, 0, 0, 1, 1, 1, 0, 1, 0, 1, 1, 0, 1, 0, 0, 1, 1, 1, 1, 1, 0, 1, 0, 1, 1, 1, 1, 1, 0, 1, 1, 1, 1, 0, 0, 0, 1, 1, 0, 0, 1, 1, 0, 1, 1, 1, 1, 1, 1, 1, 1, 1, 1, 0, 1, 1, 0, 1, 1, 1, 1, 1, 0, 0, 0, 1, 1, 1, 1, 1, 1, 1, 1, 1, 1, 1, 1, 1, 0, 1, 1, 1, 0, 1, 1, 1, 0, 1, 0, 1, 1, 1, 1, 1, 1, 1, 1, 1, 1, 1, 1, 1, 1, 1, 1, 0, 1, 0, 1, 1, 0, 0, 1, 1, 1, 1, 0, 0, 0, 0, 1, 1, 1, 1, 1, 0, 0, 1, 0, 1, 0, 1, 1, 1, 0, 1, 1, 1, 0, 1, 1, 1, 1, 0, 1, 0, 1, 1, 1, 1, 1, 1, 0, 1, 1, 0, 1, 1, 1, 0, 1, 1, 0, 0, 1, 1, 1, 0, 0, 1, 1, 1, 1, 0, 1, 0, 1, 1, 1, 0, 1, 1, 1, 1, 0, 1, 0, 1, 1, 1, 1, 0, 1, 1, 0, 1, 1, 1, 0, 0, 0, 1, 1, 0, 0, 1, 1, 0, 0, 1, 1, 1, 0, 1, 0, 1, 1, 0, 0, 1, 1, 1, 1, 1, 1, 1, 0, 1, 1, 0, 1, 1, 1, 1, 0, 1, 0, 1, 1, 0, 1, 0, 0, 1, 1, 1, 0, 1, 0, 0, 1, 1, 0, 0, 1, 1, 0, 1, 0, 1, 0, 1, 1, 0, 1, 1, 0, 1, 1, 1, 1, 1, 1, 1, 1, 1, 1, 0, 1, 1, 1, 0, 1, 1, 0, 0, 0, 0, 1, 1, 1, 0, 1, 1, 1, 1, 0, 1, 1, 1, 1, 1, 1, 1, 0, 1, 0, 1, 0, 1, 1, 0, 0, 0, 1, 0, 1, 1, 0, 1, 1, 1, 0, 1, 1, 0, 1, 1, 1, 0, 1, 1, 1, 0, 1, 0, 1, 1, 0, 1, 1, 1, 0, 1, 1, 1, 1, 0, 1, 0, 0, 1, 1, 1, 0, 1, 1, 1, 0, 0, 1, 1, 1, 1, 1, 1, 1, 0, 1, 1, 1, 0, 1, 1, 1, 1, 1, 1, 1, 1, 1, 1, 0, 1, 0, 1, 1, 1, 0, 1, 0, 0, 1, 0, 1, 1, 1, 1, 0, 1, 1, 1, 1, 0, 0, 1, 0, 1, 1, 1, 1, 1, 1, 0, 1, 0, 1, 0, 1, 1, 1, 0, 1, 0, 0, 1, 1, 1, 1, 0, 1, 1, 0, 1, 1, 1, 0, 0, 1, 0, 0, 1, 0, 0, 0, 1, 1, 1, 1, 0, 1, 0, 0, 1, 1, 1, 1, 0, 0, 0, 0, 1, 0, 0, 1, 1, 1, 0, 0, 0, 0, 0, 1, 1, 0, 1, 1, 0, 0, 0, 0, 0, 1, 1, 1, 0, 1, 1, 1, 1, 0, 1, 1, 1, 1, 1, 1, 0, 1, 1, 0, 0, 1, 0, 1, 0, 1, 0, 1, 1, 1, 1, 1, 1, 0, 1, 1, 1, 1, 1, 1, 1, 1, 1, 1, 0, 1, 1, 1, 1, 1, 0, 1, 1, 0, 1, 1, 1, 1, 1, 1, 1, 0, 1, 1, 1, 0, 0, 1, 1, 1, 1, 1, 1, 1, 1, 1, 1, 0, 1, 1, 1, 1, 1, 0, 1, 1, 0, 1, 0, 1, 0, 0, 1, 0, 0, 1, 1, 0, 1, 1, 1, 1, 1, 1, 1, 1, 1, 0, 0, 0, 0, 0, 1, 0, 0, 1, 1, 1, 0, 0, 0, 0, 0, 1, 1, 0, 1, 1, 1, 1, 1, 1, 0, 0, 1, 1, 0, 0, 0, 0, 1, 0, 1, 1, 1, 1, 0, 0, 1, 1, 1, 1, 1, 0, 1, 1, 0, 0, 1, 1, 1, 0, 1, 0, 1, 0, 1, 1, 1, 0, 1, 1, 1, 1, 1, 1, 0, 1, 1, 1, 1, 0, 1, 0, 1, 1, 1, 0, 0, 1, 0, 1, 1, 1, 1, 0, 1, 1, 1, 1, 1, 0, 1, 0, 1, 1, 1, 1, 1, 1, 1, 1, 0, 1, 1, 1, 1, 0, 1, 0, 0, 1, 0, 0, 1, 1, 1, 1, 0, 1, 1, 1, 1, 1, 1, 1, 1, 1, 1, 1, 1, 1, 0, 1, 0, 1, 1, 1, 0, 1, 1, 0, 0, 1, 1, 0, 0, 1, 1, 0, 1, 0, 1, 1, 1, 1, 1, 1, 1, 0, 1, 0, 1, 1, 1, 1, 1, 1, 1, 1, 1, 1, 0, 0, 0, 1, 1, 1, 1, 1, 1, 1, 1, 1, 0, 0, 0, 0, 0, 1, 1, 0, 1, 1, 1, 1, 0, 1, 0, 1, 1, 1, 0, 1, 1, 1, 1, 0, 1, 1, 0, 1, 0, 1, 1, 1, 1, 1, 1, 1, 0, 0, 1, 1, 1, 1, 1, 1, 0, 0, 0, 0, 1, 1, 1, 1, 1, 1, 1, 1, 1, 0, 1, 0, 1, 1, 1, 1, 0, 1, 0, 0, 0, 1, 1, 1, 1, 1, 0, 1, 1, 0, 1, 0, 1, 1, 1, 1, 1, 1, 1, 0, 1, 1, 1, 1]\n"
     ]
    }
   ],
   "source": [
    "# Mapping function\n",
    "gender_mapping = {'Male': 1, 'Female': 0}\n",
    "genders = [gender_mapping[gender] for gender in genders]\n",
    "print(genders)  # Output: [1, 0, 1, 0, 1]"
   ]
  },
  {
   "cell_type": "markdown",
   "metadata": {},
   "source": [
    "* Calculate Disparate Impact Ratio from list of explainations"
   ]
  },
  {
   "cell_type": "code",
   "execution_count": 23,
   "metadata": {},
   "outputs": [],
   "source": [
    "calculator = DisparateImpactCalculator(mega_explanation, genders, 15)"
   ]
  },
  {
   "cell_type": "code",
   "execution_count": 24,
   "metadata": {},
   "outputs": [
    {
     "name": "stdout",
     "output_type": "stream",
     "text": [
      "Non-numeric data encountered in explanation: [['Gender' '0']\n",
      " ['ForeignWorker' '0']\n",
      " ['Single' '0']\n",
      " ['Age' '0']\n",
      " ['LoanDuration' '0']\n",
      " ['LoanAmount' '0']\n",
      " ['LoanRateAsPercentOfIncome' '0']\n",
      " ['YearsAtCurrentHome' '0']\n",
      " ['NumberOfOtherLoansAtBank' '0']\n",
      " ['NumberOfLiableIndividuals' '0']\n",
      " ['HasTelephone' '0']\n",
      " ['CheckingAccountBalanceGreaterOrEqualTo0' '0']\n",
      " ['CheckingAccountBalanceGreaterOrEqualThan200' '0']\n",
      " ['SavingsAccountBalanceGreaterOrEqualThan200' '0']\n",
      " ['SavingsAccountBalanceGreaterOrEqualThan500' '0']\n",
      " ['MissedPayments' '0']\n",
      " ['NoCurrentLoan' '0']\n",
      " ['CriticalAccountOrLoansElsewhere' '0']\n",
      " ['OtherLoansAtBank' '0']\n",
      " ['OtherLoansAtStore' '0']\n",
      " ['HasCoapplicant' '0']\n",
      " ['HasGuarantor' '0']\n",
      " ['OwnsHouse' '0']\n",
      " ['RentsHouse' '0']\n",
      " ['Unemployed' '0']\n",
      " ['YearsAtCurrentJobLessThan1' '0']\n",
      " ['YearsAtCurrentJobGreaterOrEqualThan4' '0']\n",
      " ['JobClassIsSkilled' '0']\n",
      " ['loanpurposeBusiness' '0']\n",
      " ['loanpurposeEducation' '0']\n",
      " ['loanpurposeElectronics' '0']\n",
      " ['loanpurposeFurniture' '0']\n",
      " ['loanpurposeHomeAppliances' '0']\n",
      " ['loanpurposeNewCar' '0']\n",
      " ['loanpurposeOther' '0']\n",
      " ['loanpurposeRepairs' '0']\n",
      " ['loanpurposeRetraining' '0']\n",
      " ['loanpurposeUsedCar' '0']]\n",
      "Disparate Impact Ratios for each feature: {0: 0.0, 2: 0.0, 3: 1.6666666666666667, 4: 1.25, 5: 1.25, 6: 1.25, 7: 0.0, 8: 0.0, 9: 2.5, 10: 0.0, 11: 2.5, 13: 2.5, 16: 0.0, 17: 1.25, 18: 0.0, 22: 1.25, 23: 2.5, 24: 0.0, 25: 2.5, 26: 1.25, 27: 0.0, 30: 1.6666666666666667, 31: 0.0, 33: 2.5, 37: 1.25}\n"
     ]
    }
   ],
   "source": [
    "disparate_impact_ratios = calculator.calculate_disparate_impact()\n",
    "print(\"Disparate Impact Ratios for each feature:\", disparate_impact_ratios)"
   ]
  },
  {
   "cell_type": "code",
   "execution_count": 25,
   "metadata": {},
   "outputs": [
    {
     "name": "stdout",
     "output_type": "stream",
     "text": [
      "Non-numeric data encountered in explanation: [['Gender' '0']\n",
      " ['ForeignWorker' '0']\n",
      " ['Single' '0']\n",
      " ['Age' '0']\n",
      " ['LoanDuration' '0']\n",
      " ['LoanAmount' '0']\n",
      " ['LoanRateAsPercentOfIncome' '0']\n",
      " ['YearsAtCurrentHome' '0']\n",
      " ['NumberOfOtherLoansAtBank' '0']\n",
      " ['NumberOfLiableIndividuals' '0']\n",
      " ['HasTelephone' '0']\n",
      " ['CheckingAccountBalanceGreaterOrEqualTo0' '0']\n",
      " ['CheckingAccountBalanceGreaterOrEqualThan200' '0']\n",
      " ['SavingsAccountBalanceGreaterOrEqualThan200' '0']\n",
      " ['SavingsAccountBalanceGreaterOrEqualThan500' '0']\n",
      " ['MissedPayments' '0']\n",
      " ['NoCurrentLoan' '0']\n",
      " ['CriticalAccountOrLoansElsewhere' '0']\n",
      " ['OtherLoansAtBank' '0']\n",
      " ['OtherLoansAtStore' '0']\n",
      " ['HasCoapplicant' '0']\n",
      " ['HasGuarantor' '0']\n",
      " ['OwnsHouse' '0']\n",
      " ['RentsHouse' '0']\n",
      " ['Unemployed' '0']\n",
      " ['YearsAtCurrentJobLessThan1' '0']\n",
      " ['YearsAtCurrentJobGreaterOrEqualThan4' '0']\n",
      " ['JobClassIsSkilled' '0']\n",
      " ['loanpurposeBusiness' '0']\n",
      " ['loanpurposeEducation' '0']\n",
      " ['loanpurposeElectronics' '0']\n",
      " ['loanpurposeFurniture' '0']\n",
      " ['loanpurposeHomeAppliances' '0']\n",
      " ['loanpurposeNewCar' '0']\n",
      " ['loanpurposeOther' '0']\n",
      " ['loanpurposeRepairs' '0']\n",
      " ['loanpurposeRetraining' '0']\n",
      " ['loanpurposeUsedCar' '0']]\n",
      "Potentially biased features (below 0.8 threshold): {0: 0.0, 2: 0.0, 7: 0.0, 8: 0.0, 10: 0.0, 16: 0.0, 18: 0.0, 24: 0.0, 27: 0.0, 31: 0.0}\n"
     ]
    }
   ],
   "source": [
    "biased_features = calculator.interpret_disparate_impact(threshold=0.8)\n",
    "print(\"Potentially biased features (below 0.8 threshold):\", biased_features)"
   ]
  },
  {
   "cell_type": "markdown",
   "metadata": {},
   "source": [
    "### 4. Selecting the most fair and faithful explanation"
   ]
  },
  {
   "cell_type": "code",
   "execution_count": null,
   "metadata": {},
   "outputs": [],
   "source": [
    "from mega_explainer.fair_faithful_selector import FairFaithfulSelector"
   ]
  },
  {
   "cell_type": "code",
   "execution_count": null,
   "metadata": {},
   "outputs": [
    {
     "name": "stdout",
     "output_type": "stream",
     "text": [
      "Most Fair and Faithful Explanation: {'method_name': 'lime_0.25', 'faithfulness_score': 0.4667754962888392, 'explanation_data': array([ 4.3687555e-03, -1.9995717e-03,  3.2969711e-03, -1.3142395e-03,\n",
      "        1.3283708e-02,  5.1954640e-03,  5.7685506e-03,  3.6398688e-04,\n",
      "       -2.5532204e-03, -1.2781023e-03,  4.3092011e-03, -2.4154549e-03,\n",
      "       -7.5817830e-04, -3.9812718e-03, -4.3321415e-04,  1.8063950e-03,\n",
      "       -1.3477367e-03, -7.1064574e-03, -2.0749094e-03, -1.6837581e-05,\n",
      "       -1.2061814e-03, -6.7349356e-06,  2.7383112e-03, -1.1649758e-03,\n",
      "        1.8042199e-02, -8.7142229e-04, -5.8857142e-03,  3.1167397e-03,\n",
      "       -2.3118199e-03, -4.0278430e-04, -5.8725630e-03,  1.1314398e-02,\n",
      "       -8.2026469e-04, -1.4901583e-03, -1.0793941e-03, -6.7411823e-04,\n",
      "       -3.6991554e-05, -2.7007274e-03], dtype=float32), 'is_fair': True}\n"
     ]
    }
   ],
   "source": [
    "selector = FairFaithfulSelector(\n",
    "    sorted_explanations=mega_explanation,\n",
    "    disparate_impact_ratios=disparate_impact_ratios,\n",
    "    fairness_threshold=0.8        # Standard fairness ratio\n",
    ")\n",
    "result = selector.find_most_fair_and_faithful()\n",
    "\n",
    "if result:\n",
    "    print(\"Most Fair and Faithful Explanation:\", result)\n",
    "else:\n",
    "    print(\"No explanation meets both the faithfulness and fairness criteria.\")"
   ]
  }
 ],
 "metadata": {
  "kernelspec": {
   "display_name": "ttm",
   "language": "python",
   "name": "python3"
  },
  "language_info": {
   "codemirror_mode": {
    "name": "ipython",
    "version": 3
   },
   "file_extension": ".py",
   "mimetype": "text/x-python",
   "name": "python",
   "nbconvert_exporter": "python",
   "pygments_lexer": "ipython3",
   "version": "3.9.19"
  }
 },
 "nbformat": 4,
 "nbformat_minor": 2
}
